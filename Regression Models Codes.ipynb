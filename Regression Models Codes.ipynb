{
 "cells": [
  {
   "cell_type": "code",
   "execution_count": null,
   "id": "cc057023-f344-435e-9f6c-a547b925cb01",
   "metadata": {},
   "outputs": [],
   "source": [
    "import warnings\n",
    "warnings.filterwarnings('ignore')\n",
    "import pandas as pd\n",
    "import numpy as np\n",
    "import keras\n",
    "import matplotlib.pyplot as plt\n",
    "from sklearn.model_selection import GridSearchCV\n",
    "from sklearn.preprocessing import MinMaxScaler\n",
    "from sklearn.preprocessing import StandardScaler\n",
    "from keras.models import Sequential\n",
    "from sklearn.model_selection import train_test_split\n",
    "from sklearn.svm import SVR\n",
    "from sklearn.metrics import r2_score\n",
    "from sklearn.multioutput import MultiOutputRegressor\n",
    "import xgboost as xgb\n",
    "from scipy.special import softmax\n",
    "import random\n",
    "from sklearn.feature_selection import RFE\n",
    "from sklearn.model_selection import train_test_split\n",
    "from sklearn.model_selection import cross_val_score\n",
    "from sklearn.model_selection import KFold\n",
    "from sklearn.pipeline import Pipeline\n",
    "from sklearn.preprocessing import StandardScaler\n",
    "from tensorflow.keras import layers\n",
    "import tensorflow as tf\n",
    "from tensorflow import keras\n",
    "from tensorflow.keras import layers\n",
    "import tensorflow_docs as tfdocs\n",
    "import tensorflow_docs.plots\n",
    "import tensorflow_docs.modeling"
   ]
  },
  {
   "cell_type": "code",
   "execution_count": null,
   "id": "caebab0a-142f-46b2-9c76-ae3b707fa35e",
   "metadata": {},
   "outputs": [],
   "source": [
    "from sklearn.linear_model import LinearRegression\n",
    "from sklearn.linear_model import Lasso\n",
    "from sklearn.linear_model import ElasticNet\n",
    "from sklearn.tree import DecisionTreeRegressor\n",
    "from sklearn.neighbors import KNeighborsRegressor\n",
    "from sklearn.ensemble import GradientBoostingRegressor\n",
    "import xgboost as xgb\n",
    "import seaborn as sns"
   ]
  },
  {
   "cell_type": "code",
   "execution_count": null,
   "id": "abcf295a-7e4f-4a1e-abef-61877a969556",
   "metadata": {},
   "outputs": [],
   "source": [
    "dataset=pd.read_csv(r\"C:\\Users\\Swati Mahato\\OneDrive - IIT Kanpur\\Literature Review\\ML_Writing\\NewBeginning\\New_Non-Normalised_Composition_SFE_Properties_Input.csv\")\n",
    "dataset"
   ]
  },
  {
   "cell_type": "code",
   "execution_count": null,
   "id": "39e2b806-8728-4440-9ab3-7f44b80c2288",
   "metadata": {},
   "outputs": [],
   "source": [
    "df=dataset[[\"Temp\",\"ECR_2\",\"ECR_4\",\"ECR_6\",\"ECR_8\",\"ECR_10\",\"ECR_12\",\"VASP-PAW-GGA LSE_Avg\", \"VASP-PAW-GGA LSE_Var\",\"SGTE LSE_Avg\",\"SGTE LSE_Var\",\"Allen EN_Avg\",\"Allen EN_Var\",\"Pauling EN_Avg\",\"Pauling EN_Var\", \"Density_Avg\", \"Density_Var\", \"Atomic Weight_Avg\", \"Atomic Weight_Var\", \"Valence e_Avg\",\"Valence e_Var\",\"IE_Avg\", \"IE_Var\",\"Melting Point_Avg\", \"Melting Point_Var\",\"Specific Heat_Avg\",\"Specific Heat_Var\",\"Metallic Radius_Avg\", \"Metallic Radius_Var\", \"Shear Modulus_Avg\", \"Shear Modulus_Var\", \"Total Electrons_Avg\", \"Total Electrons_Var\", \"Atomic Planar Density_Avg\", \"Atomic Planar Density_Var\",\"C_11_Avg\", \"C_11_Var\", \"C_12_Avg\", \"C_12_Var\", \"C'_Avg\", \"C'_Var\", \"Heat of fusion_Avg\", \"Heat of fusion_Var\"  ]]\n",
    "df1=dataset[[\"Temp\",\"ECR_2\",\"ECR_4\",\"ECR_6\",\"ECR_8\",\"ECR_10\",\"ECR_12\",\"VASP-PAW-GGA LSE_Avg\", \"VASP-PAW-GGA LSE_Var\",\"SGTE LSE_Avg\",\"SGTE LSE_Var\",\"Allen EN_Avg\",\"Allen EN_Var\",\"Pauling EN_Avg\",\"Pauling EN_Var\", \"Density_Avg\", \"Density_Var\", \"Atomic Weight_Avg\", \"Atomic Weight_Var\", \"Valence e_Avg\",\"Valence e_Var\",\"IE_Avg\", \"IE_Var\",\"Melting Point_Avg\", \"Melting Point_Var\",\"Specific Heat_Avg\",\"Specific Heat_Var\",\"Metallic Radius_Avg\", \"Metallic Radius_Var\", \"Shear Modulus_Avg\", \"Shear Modulus_Var\", \"Total Electrons_Avg\", \"Total Electrons_Var\", \"Atomic Planar Density_Avg\", \"Atomic Planar Density_Var\",\"C_11_Avg\", \"C_11_Var\", \"C_12_Avg\", \"C_12_Var\", \"C'_Avg\", \"C'_Var\", \"Heat of fusion_Avg\", \"Heat of fusion_Var\", \"SFE\"]]\n",
    "\n",
    "from sklearn import preprocessing\n",
    "min_max_scaler = preprocessing.MinMaxScaler()\n",
    "x_scaled = min_max_scaler.fit_transform(df)\n",
    "df_normalized = pd.DataFrame(x_scaled)\n",
    "\n",
    "\n",
    "df_normalized.to_csv(r\"C:\\Users\\Swati Mahato\\OneDrive - IIT Kanpur\\Literature Review\\ML_Writing\\NewBeginning\\RegressionModel\\Regression_New_Normalised_Input_Final.csv\", header = [\"Temp\",\"ECR_2\",\"ECR_4\",\"ECR_6\",\"ECR_8\",\"ECR_10\",\"ECR_12\",\"VASP-PAW-GGA LSE_Avg\", \"VASP-PAW-GGA LSE_Var\",\"SGTE LSE_Avg\",\"SGTE LSE_Var\",\"Allen EN_Avg\",\"Allen EN_Var\",\"Pauling EN_Avg\",\"Pauling EN_Var\", \"Density_Avg\", \"Density_Var\", \"Atomic Weight_Avg\", \"Atomic Weight_Var\", \"Valence e_Avg\",\"Valence e_Var\",\"IE_Avg\", \"IE_Var\",\"Melting Point_Avg\", \"Melting Point_Var\",\"Specific Heat_Avg\",\"Specific Heat_Var\",\"Metallic Radius_Avg\", \"Metallic Radius_Var\", \"Shear Modulus_Avg\", \"Shear Modulus_Var\", \"Total Electrons_Avg\", \"Total Electrons_Var\", \"Atomic Planar Density_Avg\", \"Atomic Planar Density_Var\",\"C_11_Avg\", \"C_11_Var\", \"C_12_Avg\", \"C_12_Var\", \"C'_Avg\", \"C'_Var\", \"Heat of fusion_Avg\", \"Heat of fusion_Var\"])"
   ]
  },
  {
   "cell_type": "code",
   "execution_count": null,
   "id": "97373008-db23-4195-8f04-e487b874471e",
   "metadata": {},
   "outputs": [],
   "source": [
    "Input = pd.read_csv(r\"C:\\Users\\Swati Mahato\\OneDrive - IIT Kanpur\\Literature Review\\ML_Writing\\NewBeginning\\RegressionModel\\Regression_New_Normalised_Input_Final.csv\", header = 0)\n",
    "x = Input.loc[:, [\"SGTE LSE_Var\", \"IE_Avg\", \"Specific Heat_Avg\"]]\n",
    "y = df1.loc[:, [\"SFE\"]]"
   ]
  },
  {
   "cell_type": "code",
   "execution_count": null,
   "id": "87c599c2-6137-40bf-84df-07b7e9f5bc40",
   "metadata": {},
   "outputs": [],
   "source": [
    "from sklearn.model_selection import train_test_split\n",
    "x_train, x_test, y_train, y_test = train_test_split(x, y, random_state =42 ,test_size = 0.2)"
   ]
  },
  {
   "cell_type": "code",
   "execution_count": null,
   "id": "5e8ccb8b-fa8d-4b98-b021-6eaccaa13f15",
   "metadata": {},
   "outputs": [],
   "source": [
    "from sklearn.metrics import mean_absolute_error\n",
    "\n",
    "pipelines = []\n",
    "pipelines.append(('ScaledLR', Pipeline([('Scaler', StandardScaler()),('LR',LinearRegression())])))\n",
    "pipelines.append(('ScaledLASSO', Pipeline([('Scaler', StandardScaler()),('LASSO', Lasso())])))\n",
    "pipelines.append(('ScaledEN', Pipeline([('Scaler', StandardScaler()),('EN', ElasticNet())])))\n",
    "pipelines.append(('ScaledKNN', Pipeline([('Scaler', StandardScaler()),('KNN', KNeighborsRegressor())])))\n",
    "pipelines.append(('ScaledCART', Pipeline([('Scaler', StandardScaler()),('CART', DecisionTreeRegressor())])))\n",
    "pipelines.append(('ScaledGBM', Pipeline([('Scaler', StandardScaler()),('GBM', GradientBoostingRegressor())])))\n",
    "\n",
    "results = []\n",
    "names = []\n",
    "final_SFE = []\n",
    "\n",
    "for name, model in pipelines:\n",
    "    kfold = KFold(n_splits=10)\n",
    "    cv_results = cross_val_score(model, x_train, y_train, cv=kfold, scoring='neg_mean_absolute_error')\n",
    "    results.append(cv_results)\n",
    "    names.append(name)\n",
    "    final_SFE.append(-cv_results.mean())  # negate the result to obtain the positive MAE value\n",
    "    Scores= \"%s: %f \" % (name, -cv_results.mean())  # negate the result to obtain the positive MAE value\n",
    "    print(\"Model name  MAE_mean Score \")\n",
    "    print(Scores)\n",
    "    \n"
   ]
  },
  {
   "cell_type": "code",
   "execution_count": null,
   "id": "b6cff7c7-ed65-492d-9fd1-356bcf469940",
   "metadata": {},
   "outputs": [],
   "source": [
    "pipelines = []\n",
    "pipelines.append(('ScaledLR', Pipeline([('Scaler', StandardScaler()),('LR',LinearRegression())])))\n",
    "pipelines.append(('ScaledLASSO', Pipeline([('Scaler', StandardScaler()),('LASSO', Lasso())])))\n",
    "pipelines.append(('ScaledEN', Pipeline([('Scaler', StandardScaler()),('EN', ElasticNet())])))\n",
    "pipelines.append(('ScaledKNN', Pipeline([('Scaler', StandardScaler()),('KNN', KNeighborsRegressor())])))\n",
    "pipelines.append(('ScaledCART', Pipeline([('Scaler', StandardScaler()),('CART', DecisionTreeRegressor())])))\n",
    "pipelines.append(('ScaledGBM', Pipeline([('Scaler', StandardScaler()),('GBM', GradientBoostingRegressor())])))\n",
    "\n",
    "results = []\n",
    "names = []\n",
    "final_SFE = []\n",
    "for name, model in pipelines:\n",
    "    kfold = KFold(n_splits=10)\n",
    "    cv_results = cross_val_score(model, x_train, y_train, cv=kfold, scoring='r2')\n",
    "    results.append(cv_results)\n",
    "    names.append(name)\n",
    "    final_SFE.append(cv_results.mean())\n",
    "    Scores= \"%s: %f \" % (name, cv_results.mean())\n",
    "    print(\"Model name  R2 _mean Score \")\n",
    "    print(Scores)\n"
   ]
  },
  {
   "cell_type": "code",
   "execution_count": null,
   "id": "384d1b2e-7870-4d6b-b7ab-d9c9f0482731",
   "metadata": {},
   "outputs": [],
   "source": [
    "#plotting scores for UTS\n",
    "fig,ax = plt.subplots()\n",
    "people = ('LR', 'LASSO', 'EN', 'KNN', 'CART', 'GBM')\n",
    "y_pos = np.arange(len(people))\n",
    "performance = final_SFE\n",
    "for index, value in enumerate(performance):\n",
    "    plt.text(value, index, str(\"{:.2f}\".format(value)))\n",
    "ax.barh(y_pos, performance, align='center')\n",
    "ax.set_yticks(y_pos)\n",
    "ax.set_yticklabels(people)\n",
    "ax.invert_yaxis()  # labels read top-to-bottom\n",
    "ax.set_xlabel('CV-Mean Score ',fontsize = 15)\n",
    "ax.set_title('CV-Mean Score for different Regression Model',fontsize = 15)\n",
    "ax.set_ylabel('Models',fontsize = 15)\n",
    "ax.set_xlim(0,0.9)\n",
    "plt.savefig('CV.png')\n",
    "plt.show()"
   ]
  },
  {
   "cell_type": "code",
   "execution_count": null,
   "id": "d30a7b7b-9c87-4cdf-bb7b-f6260556c16b",
   "metadata": {},
   "outputs": [],
   "source": [
    "from sklearn.pipeline import Pipeline\n",
    "from sklearn.preprocessing import StandardScaler\n",
    "from sklearn.ensemble import RandomForestRegressor\n",
    "\n",
    "# create the pipeline object\n",
    "rf_pipeline = Pipeline([\n",
    "    ('scaler', StandardScaler()),\n",
    "    ('rf_regressor', RandomForestRegressor(n_estimators=100, random_state=42))\n",
    "])\n",
    "\n",
    "# fit the pipeline to the training data\n",
    "rf_pipeline.fit(x_train, y_train)\n",
    "\n",
    "# make predictions on the test set\n",
    "y_pred = rf_pipeline.predict(x_test)\n",
    "\n",
    "# calculate the R2 score\n",
    "r2 = r2_score(y_test, y_pred)\n",
    "\n",
    "# print the R2 score\n",
    "print(f\"R2 score: {r2:.3f}\")"
   ]
  },
  {
   "cell_type": "code",
   "execution_count": null,
   "id": "de97f34d-7cef-4592-9ff2-0536b290a097",
   "metadata": {},
   "outputs": [],
   "source": [
    "\n",
    "# make predictions on the test set\n",
    "y_pred = rf_pipeline.predict(x_test)\n",
    "\n",
    "# calculate the MAE value\n",
    "mae = mean_absolute_error(y_test, y_pred)\n",
    "\n",
    "# print the MAE value\n",
    "print(f\"MAE value: {mae:.3f}\")\n"
   ]
  },
  {
   "cell_type": "code",
   "execution_count": null,
   "id": "59917503-dfa2-425b-a473-399eb47fd747",
   "metadata": {},
   "outputs": [],
   "source": [
    "from sklearn.metrics import r2_score\n",
    "\n",
    "# calculate R2 score for random forest regressor\n",
    "y_pred = rf_pipeline.predict(x_test)\n",
    "rf_r2 = r2_score(y_test, y_pred)\n",
    "\n",
    "# plotting scores for UTS\n",
    "fig, ax = plt.subplots()\n",
    "people = ('LR', 'LASSO', 'EN', 'KNN', 'CART', 'GBM', 'RF')\n",
    "y_pos = np.arange(len(people))\n",
    "performance = final_SFE + [rf_r2]\n",
    "for index, value in enumerate(performance):\n",
    "    plt.text(value, index, str(\"{:.2f}\".format(value)))\n",
    "ax.barh(y_pos, performance, align='center')\n",
    "ax.set_yticks(y_pos)\n",
    "ax.set_yticklabels(people)\n",
    "ax.invert_yaxis()  # labels read top-to-bottom\n",
    "ax.set_xlabel('CV-Mean Score', fontsize=15)\n",
    "ax.set_title('CV-Mean Score for different Regression Model', fontsize=15)\n",
    "ax.set_ylabel('Models', fontsize=15)\n",
    "ax.set_xlim(0, 0.9)\n",
    "plt.savefig('CV.png')\n",
    "plt.show()\n"
   ]
  }
 ],
 "metadata": {
  "kernelspec": {
   "display_name": "Python 3 (ipykernel)",
   "language": "python",
   "name": "python3"
  },
  "language_info": {
   "codemirror_mode": {
    "name": "ipython",
    "version": 3
   },
   "file_extension": ".py",
   "mimetype": "text/x-python",
   "name": "python",
   "nbconvert_exporter": "python",
   "pygments_lexer": "ipython3",
   "version": "3.9.12"
  }
 },
 "nbformat": 4,
 "nbformat_minor": 5
}
