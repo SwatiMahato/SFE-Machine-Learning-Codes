{
 "cells": [
  {
   "cell_type": "code",
   "execution_count": null,
   "id": "9e163172-7646-496a-8985-28c29e3cafd1",
   "metadata": {},
   "outputs": [],
   "source": [
    "import warnings\n",
    "warnings.filterwarnings('ignore')\n",
    "import pandas as pd\n",
    "import numpy as np\n",
    "import keras\n",
    "import matplotlib.pyplot as plt\n",
    "from sklearn.model_selection import GridSearchCV\n",
    "from sklearn.preprocessing import MinMaxScaler\n",
    "from sklearn.preprocessing import StandardScaler\n",
    "from keras.models import Sequential\n",
    "from sklearn.model_selection import train_test_split\n",
    "from sklearn.svm import SVR\n",
    "from sklearn.metrics import r2_score\n",
    "from sklearn.multioutput import MultiOutputRegressor\n",
    "import xgboost as xgb\n",
    "from scipy.special import softmax\n",
    "import random\n",
    "from sklearn.feature_selection import RFE\n",
    "from sklearn.model_selection import train_test_split\n",
    "from sklearn.model_selection import cross_val_score\n",
    "from sklearn.model_selection import KFold\n",
    "from sklearn.pipeline import Pipeline\n",
    "from sklearn.preprocessing import StandardScaler\n",
    "from tensorflow.keras import layers\n",
    "import tensorflow as tf\n",
    "from tensorflow import keras\n",
    "from tensorflow.keras import layers\n",
    "import tensorflow_docs as tfdocs\n",
    "import tensorflow_docs.plots\n",
    "import tensorflow_docs.modeling"
   ]
  },
  {
   "cell_type": "code",
   "execution_count": null,
   "id": "948533a7-5641-42eb-838d-995e9b8ed699",
   "metadata": {},
   "outputs": [],
   "source": [
    "from sklearn.linear_model import LinearRegression\n",
    "import sklearn\n",
    "from sklearn.linear_model import Lasso\n",
    "from sklearn.linear_model import ElasticNet\n",
    "from sklearn.tree import DecisionTreeRegressor\n",
    "from sklearn.neighbors import KNeighborsRegressor\n",
    "from sklearn.ensemble import GradientBoostingRegressor\n",
    "import xgboost as xgb\n",
    "import seaborn as sns\n",
    "from sklearn import tree\n",
    "from sklearn.ensemble import ExtraTreesRegressor\n",
    "from sklearn.metrics import accuracy_score as acc\n",
    "from sklearn.model_selection import KFold\n",
    "from sklearn.model_selection import cross_val_score"
   ]
  },
  {
   "cell_type": "code",
   "execution_count": null,
   "id": "a957877f-e9f2-49e7-856c-c7a739d52721",
   "metadata": {},
   "outputs": [],
   "source": [
    "dataset=pd.read_csv(r\"C:\\Users\\Swati Mahato\\OneDrive - IIT Kanpur\\Literature Review\\ML_Writing\\NewBeginning\\New_Non-Normalised_Composition_SFE_Properties_Input.csv\")\n",
    "dataset"
   ]
  },
  {
   "cell_type": "code",
   "execution_count": null,
   "id": "acdfd95c-8411-415a-a744-3baba4161ea3",
   "metadata": {},
   "outputs": [],
   "source": [
    "df=dataset[[\"Temp\",\"ECR_2\",\"ECR_4\",\"ECR_6\",\"ECR_8\",\"ECR_10\",\"ECR_12\",\"VASP-PAW-GGA LSE_Avg\", \"VASP-PAW-GGA LSE_Var\",\"SGTE LSE_Avg\",\"SGTE LSE_Var\",\"Allen EN_Avg\",\"Allen EN_Var\",\"Pauling EN_Avg\",\"Pauling EN_Var\", \"Density_Avg\", \"Density_Var\", \"Atomic Weight_Avg\", \"Atomic Weight_Var\", \"Valence e_Avg\",\"Valence e_Var\",\"IE_Avg\", \"IE_Var\",\"Melting Point_Avg\", \"Melting Point_Var\",\"Specific Heat_Avg\",\"Specific Heat_Var\",\"Metallic Radius_Avg\", \"Metallic Radius_Var\", \"Shear Modulus_Avg\", \"Shear Modulus_Var\", \"Total Electrons_Avg\", \"Total Electrons_Var\", \"Atomic Planar Density_Avg\", \"Atomic Planar Density_Var\",\"C_11_Avg\", \"C_11_Var\", \"C_12_Avg\", \"C_12_Var\", \"C'_Avg\", \"C'_Var\", \"Heat of fusion_Avg\", \"Heat of fusion_Var\"  ]]\n",
    "df1=dataset[[\"Temp\",\"ECR_2\",\"ECR_4\",\"ECR_6\",\"ECR_8\",\"ECR_10\",\"ECR_12\",\"VASP-PAW-GGA LSE_Avg\", \"VASP-PAW-GGA LSE_Var\",\"SGTE LSE_Avg\",\"SGTE LSE_Var\",\"Allen EN_Avg\",\"Allen EN_Var\",\"Pauling EN_Avg\",\"Pauling EN_Var\", \"Density_Avg\", \"Density_Var\", \"Atomic Weight_Avg\", \"Atomic Weight_Var\", \"Valence e_Avg\",\"Valence e_Var\",\"IE_Avg\", \"IE_Var\",\"Melting Point_Avg\", \"Melting Point_Var\",\"Specific Heat_Avg\",\"Specific Heat_Var\",\"Metallic Radius_Avg\", \"Metallic Radius_Var\", \"Shear Modulus_Avg\", \"Shear Modulus_Var\", \"Total Electrons_Avg\", \"Total Electrons_Var\", \"Atomic Planar Density_Avg\", \"Atomic Planar Density_Var\",\"C_11_Avg\", \"C_11_Var\", \"C_12_Avg\", \"C_12_Var\", \"C'_Avg\", \"C'_Var\", \"Heat of fusion_Avg\", \"Heat of fusion_Var\", \"SFE\"]]\n",
    "\n",
    "from sklearn import preprocessing\n",
    "min_max_scaler = preprocessing.MinMaxScaler()\n",
    "x_scaled = min_max_scaler.fit_transform(df)\n",
    "df_normalized = pd.DataFrame(x_scaled)\n",
    "\n",
    "\n",
    "df_normalized.to_csv(r\"C:\\Users\\Swati Mahato\\OneDrive - IIT Kanpur\\Literature Review\\ML_Writing\\NewBeginning\\RegressionModel\\Regression_New_Normalised_Input_Final.csv\", header = [\"Temp\",\"ECR_2\",\"ECR_4\",\"ECR_6\",\"ECR_8\",\"ECR_10\",\"ECR_12\",\"VASP-PAW-GGA LSE_Avg\", \"VASP-PAW-GGA LSE_Var\",\"SGTE LSE_Avg\",\"SGTE LSE_Var\",\"Allen EN_Avg\",\"Allen EN_Var\",\"Pauling EN_Avg\",\"Pauling EN_Var\", \"Density_Avg\", \"Density_Var\", \"Atomic Weight_Avg\", \"Atomic Weight_Var\", \"Valence e_Avg\",\"Valence e_Var\",\"IE_Avg\", \"IE_Var\",\"Melting Point_Avg\", \"Melting Point_Var\",\"Specific Heat_Avg\",\"Specific Heat_Var\",\"Metallic Radius_Avg\", \"Metallic Radius_Var\", \"Shear Modulus_Avg\", \"Shear Modulus_Var\", \"Total Electrons_Avg\", \"Total Electrons_Var\", \"Atomic Planar Density_Avg\", \"Atomic Planar Density_Var\",\"C_11_Avg\", \"C_11_Var\", \"C_12_Avg\", \"C_12_Var\", \"C'_Avg\", \"C'_Var\", \"Heat of fusion_Avg\", \"Heat of fusion_Var\"])"
   ]
  },
  {
   "cell_type": "code",
   "execution_count": null,
   "id": "258415f7-b6b0-434f-9e8f-c64dd8beb989",
   "metadata": {},
   "outputs": [],
   "source": [
    "Input = pd.read_csv(r\"C:\\Users\\Swati Mahato\\OneDrive - IIT Kanpur\\Literature Review\\ML_Writing\\NewBeginning\\RegressionModel\\Regression_New_Normalised_Input_Final.csv\", header = 0)\n",
    "x = Input.loc[:, [ \"SGTE LSE_Var\", \"IE_Avg\", \"Specific Heat_Avg\"]]\n",
    "y = df1.loc[:, [\"SFE\"]]"
   ]
  },
  {
   "cell_type": "code",
   "execution_count": null,
   "id": "2c394d9b-aebd-4cdf-a2e3-171a6d4d4f17",
   "metadata": {},
   "outputs": [],
   "source": [
    "from sklearn.model_selection import train_test_split\n",
    "x_train, x_test, y_train, y_test = train_test_split(x, y, random_state =42 ,test_size = 0.2)"
   ]
  },
  {
   "cell_type": "code",
   "execution_count": null,
   "id": "4875c585-9ccd-488f-a147-88e35c42a765",
   "metadata": {},
   "outputs": [],
   "source": [
    "#ExtraTreeRegressor\n",
    "\n",
    "param_ET ={'n_estimators': [5, 10, 50, 100],\n",
    "           \"criterion\": ['mae', 'mse'],\n",
    "            \"max_depth\" : [None],\n",
    "           \"min_samples_split\": [2, 5],\n",
    "           \"min_samples_leaf\":[1, 2, 5],\n",
    "           \"min_weight_fraction_leaf\":[0, 0.005, 0.01, 0.1],\n",
    "           \"max_features\":[1, 'sqrt', None],\n",
    "           \"max_leaf_nodes\":[None, 50, 100, 150],\n",
    "           'bootstrap': [True, False],\n",
    "           'oob_score': [True, False],\n",
    "           'max_samples': [0.1, 0.5, 1.0, None]\n",
    "          }\n",
    "\n",
    "ET_grid = GridSearchCV(ExtraTreesRegressor(random_state = 42),param_grid=param_ET, n_jobs=-1, cv=5)\n",
    "ET = ET_grid.fit(x_train, y_train)"
   ]
  },
  {
   "cell_type": "code",
   "execution_count": null,
   "id": "e6347764-9d8e-451b-abe2-f0b629a6b412",
   "metadata": {},
   "outputs": [],
   "source": [
    "print('EXTRA TREE REGRESSOR:- ')\n",
    "print(\"Best Parameters:\",ET_grid.best_params_)\n",
    "\n",
    "print(\"\")\n",
    "\n",
    "print(\"Cross-validation score:{}\".format(ET_grid.best_score_))\n",
    "print(\"\")\n",
    "\n",
    "y_pred_test_ET = ET_grid.predict(x_test)\n",
    "y_pred_train_ET = ET_grid.predict(x_train)"
   ]
  },
  {
   "cell_type": "code",
   "execution_count": null,
   "id": "8c58c771-49b6-40f1-be83-878edacd5d3e",
   "metadata": {},
   "outputs": [],
   "source": [
    "from sklearn import metrics\n",
    "r2_train = metrics.r2_score(y_train, y_pred_train_ET)\n",
    "adj_r2_train = 1 - (1-r2_train)*(len(x_train)-1)/(len(x_train)-df.shape[1]-1)\n",
    "r2_test = metrics.r2_score(y_test, y_pred_test_ET)\n",
    "adj_r2_test = 1 - (1-r2_test)*(len(x_train)-1)/(len(x_train)-df.shape[1]-1)\n",
    "\n",
    "print('For Train: ')\n",
    "print('R squared value:', metrics.r2_score(y_train, y_pred_train_ET))\n",
    "print('Adjusted R2Score: ', adj_r2_train)\n",
    "print('Mean Absolute Error:', metrics.mean_absolute_error(y_train, y_pred_train_ET))\n",
    "print('Mean Squared Error:', metrics.mean_squared_error(y_train, y_pred_train_ET))\n",
    "print('Root Mean Squared Error:', np.sqrt(metrics.mean_squared_error(y_train, y_pred_train_ET)))\n",
    "print('For Test: ')\n",
    "print('R squared value:', metrics.r2_score(y_test, y_pred_test_ET))\n",
    "print('Adjusted R2Score: ', adj_r2_test)\n",
    "print('Mean Absolute Error:', metrics.mean_absolute_error(y_test, y_pred_test_ET))\n",
    "print('Mean Squared Error:', metrics.mean_squared_error(y_test, y_pred_test_ET))\n",
    "print('Root Mean Squared Error:', np.sqrt(metrics.mean_squared_error(y_test, y_pred_test_ET)))"
   ]
  },
  {
   "cell_type": "code",
   "execution_count": null,
   "id": "45274de9-86e0-4dcd-9ccc-b88af431e1a6",
   "metadata": {},
   "outputs": [],
   "source": [
    "y_train = y_train.to_numpy()\n",
    "y_test = y_test.to_numpy()"
   ]
  },
  {
   "cell_type": "code",
   "execution_count": null,
   "id": "fee034f7-d975-4657-bd95-c0742495c8e9",
   "metadata": {},
   "outputs": [],
   "source": [
    "mre_train = []\n",
    "mre_test = []\n",
    "for i in range(len(y_train)):\n",
    "    mre_train.append((abs(y_train[i][0] - y_pred_train_ET[i])/y_train[i][0])*100)\n",
    "\n",
    "for i in range(len(y_test)):\n",
    "    mre_test.append((abs(y_test[i][0] - y_pred_test_ET[i])/y_test[i][0])*100)\n",
    "\n",
    "print(\"Mean Relative Error of Train:\",(sum(mre_train)/len(mre_train)))\n",
    "print(\"Mean Relative Error of Test:\",(sum(mre_test)/len(mre_test)))"
   ]
  }
 ],
 "metadata": {
  "kernelspec": {
   "display_name": "Python 3 (ipykernel)",
   "language": "python",
   "name": "python3"
  },
  "language_info": {
   "codemirror_mode": {
    "name": "ipython",
    "version": 3
   },
   "file_extension": ".py",
   "mimetype": "text/x-python",
   "name": "python",
   "nbconvert_exporter": "python",
   "pygments_lexer": "ipython3",
   "version": "3.9.12"
  }
 },
 "nbformat": 4,
 "nbformat_minor": 5
}
