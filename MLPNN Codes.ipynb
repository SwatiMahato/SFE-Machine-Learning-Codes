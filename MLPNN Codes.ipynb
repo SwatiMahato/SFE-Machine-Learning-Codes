{
 "cells": [
  {
   "cell_type": "code",
   "execution_count": null,
   "id": "1eff0026-f281-40c0-b8ac-59e21c5227d6",
   "metadata": {},
   "outputs": [],
   "source": [
    "import pandas as pd\n",
    "import numpy as np\n",
    "import matplotlib.pyplot as plt\n",
    "import seaborn as sns\n",
    "from itertools import combinations\n",
    "from pandas import DataFrame\n",
    "import sklearn\n",
    "from pandas import DataFrame\n",
    "from matplotlib import pyplot"
   ]
  },
  {
   "cell_type": "code",
   "execution_count": null,
   "id": "f7574682-a15a-4be5-abfe-5c849be1d6ab",
   "metadata": {},
   "outputs": [],
   "source": [
    "import matplotlib as mt\n",
    "axes= {\"linewidth\" : 3}\n",
    "mt.rc(\"axes\", **axes)\n",
    "font={\"weight\": 'bold', \"family\": \"Times new roman\", \"size\": 16}\n",
    "mt.rc(\"font\", **font)"
   ]
  },
  {
   "cell_type": "code",
   "execution_count": null,
   "id": "4ab24b44-3474-434e-a9d3-2005cb884b5c",
   "metadata": {},
   "outputs": [],
   "source": [
    "dataset=pd.read_csv(r\"C:\\Users\\Swati Mahato\\OneDrive - IIT Kanpur\\Literature Review\\ML_Writing\\NewBeginning\\New_Non-Normalised_Composition_SFE_Properties_Input.csv\")\n",
    "dataset"
   ]
  },
  {
   "cell_type": "code",
   "execution_count": null,
   "id": "73e74f27-5f53-4366-8a71-8fd830b91767",
   "metadata": {},
   "outputs": [],
   "source": [
    "df=dataset[[\"Temp\",\"ECR_2\",\"ECR_4\",\"ECR_6\",\"ECR_8\",\"ECR_10\",\"ECR_12\",\"VASP-PAW-GGA LSE_Avg\", \"VASP-PAW-GGA LSE_Var\",\"SGTE LSE_Avg\",\"SGTE LSE_Var\",\"Allen EN_Avg\",\"Allen EN_Var\",\"Pauling EN_Avg\",\"Pauling EN_Var\", \"Density_Avg\", \"Density_Var\", \"Valence e_Avg\",\"Valence e_Var\",\"IE_Avg\", \"IE_Var\",\"Melting Point_Avg\", \"Melting Point_Var\",\"Specific Heat_Avg\",\"Specific Heat_Var\",\"Metallic Radius_Avg\", \"Metallic Radius_Var\", \"Shear Modulus_Avg\", \"Shear Modulus_Var\", \"Total Electrons_Avg\", \"Total Electrons_Var\", \"Atomic Planar Density_Avg\", \"Atomic Planar Density_Var\",\"C_11_Avg\", \"C_11_Var\", \"C_12_Avg\", \"C_12_Var\", \"C'_Avg\", \"C'_Var\", \"Heat of fusion_Avg\", \"Heat of fusion_Var\"  ]]\n",
    "df1=dataset[[\"Temp\",\"ECR_2\",\"ECR_4\",\"ECR_6\",\"ECR_8\",\"ECR_10\",\"ECR_12\",\"VASP-PAW-GGA LSE_Avg\", \"VASP-PAW-GGA LSE_Var\",\"SGTE LSE_Avg\",\"SGTE LSE_Var\",\"Allen EN_Avg\",\"Allen EN_Var\",\"Pauling EN_Avg\",\"Pauling EN_Var\", \"Density_Avg\", \"Density_Var\", \"Valence e_Avg\",\"Valence e_Var\",\"IE_Avg\", \"IE_Var\",\"Melting Point_Avg\", \"Melting Point_Var\",\"Specific Heat_Avg\",\"Specific Heat_Var\",\"Metallic Radius_Avg\", \"Metallic Radius_Var\", \"Shear Modulus_Avg\", \"Shear Modulus_Var\", \"Total Electrons_Avg\", \"Total Electrons_Var\", \"Atomic Planar Density_Avg\", \"Atomic Planar Density_Var\",\"C_11_Avg\", \"C_11_Var\", \"C_12_Avg\", \"C_12_Var\", \"C'_Avg\", \"C'_Var\", \"Heat of fusion_Avg\", \"Heat of fusion_Var\", \"SFE\"]]\n",
    "\n",
    "from sklearn import preprocessing\n",
    "min_max_scaler = preprocessing.MinMaxScaler()\n",
    "x_scaled = min_max_scaler.fit_transform(df)\n",
    "df_normalized = pd.DataFrame(x_scaled)\n",
    "\n",
    "\n",
    "df_normalized.to_csv(r\"C:\\Users\\Swati Mahato\\OneDrive - IIT Kanpur\\Literature Review\\ML_Writing\\NewBeginning\\New_Normalised_Input_Final.csv\", header = [\"Temp\",\"ECR_2\",\"ECR_4\",\"ECR_6\",\"ECR_8\",\"ECR_10\",\"ECR_12\",\"VASP-PAW-GGA LSE_Avg\", \"VASP-PAW-GGA LSE_Var\",\"SGTE LSE_Avg\",\"SGTE LSE_Var\",\"Allen EN_Avg\",\"Allen EN_Var\",\"Pauling EN_Avg\",\"Pauling EN_Var\", \"Density_Avg\", \"Density_Var\",  \"Valence e_Avg\",\"Valence e_Var\",\"IE_Avg\", \"IE_Var\",\"Melting Point_Avg\", \"Melting Point_Var\",\"Specific Heat_Avg\",\"Specific Heat_Var\",\"Metallic Radius_Avg\", \"Metallic Radius_Var\", \"Shear Modulus_Avg\", \"Shear Modulus_Var\", \"Total Electrons_Avg\", \"Total Electrons_Var\", \"Atomic Planar Density_Avg\", \"Atomic Planar Density_Var\",\"C_11_Avg\", \"C_11_Var\", \"C_12_Avg\", \"C_12_Var\", \"C'_Avg\", \"C'_Var\", \"Heat of fusion_Avg\", \"Heat of fusion_Var\"])"
   ]
  },
  {
   "cell_type": "code",
   "execution_count": null,
   "id": "b9c935fb-555a-41b5-88c2-fd59f250cd7d",
   "metadata": {},
   "outputs": [],
   "source": [
    "print(df_normalized.corr(method='pearson'))\n",
    "mask=np.tril(np.ones_like(df_normalized.corr()))\n",
    "dataplot = sns.heatmap(df_normalized.corr(), cmap=\"viridis\", annot=False, annot_kws={\"size\":10}, vmin=-1, vmax=1)\n",
    "#plt.figure(figsize =(34, 10))\n",
    "positions = ( 1, 2, 3, 4, 5, 6, 7, 8 , 9 , 10, 11, 12, 13, 14, 15, 16, 17, 18, 19, 20, 21, 22, 23, 24, 25, 26, 27, 28, 29, 30, 31, 32, 33, 34, 35, 36, 37,38,39,40,41,42,43)\n",
    "positions2 = (1, 2, 3, 4, 5, 6, 7, 8 , 9 , 10, 11, 12, 13, 14, 15, 16, 17, 18, 19, 20, 21, 22, 23, 24, 25, 26, 27, 28, 29, 30, 31, 32, 33, 34, 35, 36, 37,38,39,40,41,42,43)\n",
    "labels = (\"Temp\",\"ECR_2\",\"ECR_4\",\"ECR_6\",\"ECR_8\",\"ECR_10\",\"ECR_12\", \"VASP-PAW-GGA LSE_Avg\", \"VASP-PAW-GGA LSE_Var\",\"SGTE LSE_Avg\",\"SGTE LSE_Var\",\"Allen EN_Avg\",\"Allen EN_Var\",\"Pauling EN_Avg\",\"Pauling EN_Var\", \"Density_Avg\", \"Density_Var\", \"Atomic Weight_Avg\", \"Atomic Weight_Var\", \"Valence e_Avg\",\"Valence e_Var\",\"IE_Avg\", \"IE_Var\",\"Melting Point_Avg\", \"Melting Point_Var\",\"Specific Heat_Avg\",\"Specific Heat_Var\",\"Metallic Radius_Avg\", \"Metallic Radius_Var\", \"Shear Modulus_Avg\", \"Shear Modulus_Var\", \"Total Electrons_Avg\", \"Total Electrons_Var\", \"Atomic Planar Density_Avg\", \"Atomic Planar Density_Var\",\"C_11_Avg\", \"C_11_Var\", \"C_12_Avg\", \"C_12_Var\", \"C'_Avg\", \"C'_Var\", \"Heat of fusion_Avg\", \"Heat of fusion_Var\", )\n",
    "plt.xticks(positions2, labels, rotation= 90, fontsize= 6)\n",
    "plt.yticks(positions, labels, rotation= 0, fontsize= 6)\n",
    "plt.savefig(r\"C:\\Users\\Swati Mahato\\OneDrive - IIT Kanpur\\Literature Review\\ML_Writing\\NewBeginning\\New_PearsonCoefficient_InputData_Final.png\",dpi=600)"
   ]
  },
  {
   "cell_type": "code",
   "execution_count": null,
   "id": "278dd9b8-7e42-4765-951b-910a05deb693",
   "metadata": {},
   "outputs": [],
   "source": [
    "Input_ANN = pd.read_csv(r\"C:\\Users\\Swati Mahato\\OneDrive - IIT Kanpur\\Literature Review\\ML_Writing\\NewBeginning\\New_Normalised_Input_Final.csv\", header = 0)\n",
    "x = Input_ANN.loc[:, [\"Temp\",\"ECR_2\",\"ECR_4\",\"ECR_6\",\"ECR_8\",\"ECR_10\",\"ECR_12\",\"VASP-PAW-GGA LSE_Avg\", \"VASP-PAW-GGA LSE_Var\",\"SGTE LSE_Avg\",\"SGTE LSE_Var\",\"Allen EN_Avg\",\"Allen EN_Var\",\"Pauling EN_Avg\",\"Pauling EN_Var\", \"Density_Avg\", \"Density_Var\",  \"Valence e_Avg\",\"Valence e_Var\",\"IE_Avg\", \"IE_Var\",\"Melting Point_Avg\", \"Melting Point_Var\",\"Specific Heat_Avg\",\"Specific Heat_Var\",\"Metallic Radius_Avg\", \"Metallic Radius_Var\", \"Shear Modulus_Avg\", \"Shear Modulus_Var\", \"Total Electrons_Avg\", \"Total Electrons_Var\", \"Atomic Planar Density_Avg\", \"Atomic Planar Density_Var\",\"C_11_Avg\", \"C_11_Var\", \"C_12_Avg\", \"C_12_Var\", \"C'_Avg\", \"C'_Var\", \"Heat of fusion_Avg\", \"Heat of fusion_Var\" ]]\n",
    "y = df1.loc[:, [\"SFE\"]]"
   ]
  },
  {
   "cell_type": "code",
   "execution_count": null,
   "id": "7304da3d-47ed-4a78-a33b-10228f3ae533",
   "metadata": {},
   "outputs": [],
   "source": [
    "from sklearn.model_selection import train_test_split\n",
    "\n",
    "x_train, x_test1,  y_train, y_test1= train_test_split(x, y, test_size=0.2, random_state=42)\n",
    "train_set1=pd.concat([x_train, y_train], axis=1)"
   ]
  },
  {
   "cell_type": "code",
   "execution_count": null,
   "id": "fdefe374-b486-42ad-b1ba-f89c8cb9cfa9",
   "metadata": {},
   "outputs": [],
   "source": [
    "from mlxtend.feature_selection import SequentialFeatureSelector as SFS\n",
    "from sklearn.linear_model import LinearRegression\n",
    "\n",
    "# Sequential Forward Selection(sfs)\n",
    "sfs = SFS(LinearRegression(),\n",
    "          k_features=15,\n",
    "          forward=True,\n",
    "          floating=False,\n",
    "          scoring='r2',\n",
    "          cv=0)"
   ]
  },
  {
   "cell_type": "code",
   "execution_count": null,
   "id": "664d3ce8-f7ae-4453-8ffc-e78daee77171",
   "metadata": {},
   "outputs": [],
   "source": [
    "sfs.fit(x, y)\n",
    "sfs.k_feature_names_"
   ]
  },
  {
   "cell_type": "code",
   "execution_count": null,
   "id": "29d03579-9816-413e-8b72-f6b4ea39d071",
   "metadata": {},
   "outputs": [],
   "source": [
    "Input_ANN = pd.read_csv(r\"C:\\Users\\Swati Mahato\\OneDrive - IIT Kanpur\\Literature Review\\ML_Writing\\NewBeginning\\New_Normalised_Input_Final.csv\", header = 0)\n",
    "x = Input_ANN.loc[:, [\"Temp\",\"ECR_4\",\"VASP-PAW-GGA LSE_Var\",\"SGTE LSE_Var\", \"Allen EN_Avg\", \"IE_Avg\", \"Specific Heat_Avg\", \"Total Electrons_Var\",  \"C'_Var\",  \"Heat of fusion_Avg\"]]\n",
    "y = df1.loc[:, [\"SFE\"]]"
   ]
  },
  {
   "cell_type": "code",
   "execution_count": null,
   "id": "17c23ef9-cb09-4c09-b389-7bfad7445fa5",
   "metadata": {},
   "outputs": [],
   "source": [
    "plt.figure(figsize=(10,6))\n",
    "mask = np.tril(np.ones_like(x.corr(), dtype=bool))\n",
    "sns.heatmap(x.corr(),cmap=\"viridis\", annot= False, mask=mask)\n",
    "plt.show()"
   ]
  },
  {
   "cell_type": "code",
   "execution_count": null,
   "id": "e0a61e77-7596-4b00-8505-5256a81168e7",
   "metadata": {},
   "outputs": [],
   "source": [
    "Input_ANN = pd.read_csv(r\"C:\\Users\\Swati Mahato\\OneDrive - IIT Kanpur\\Literature Review\\ML_Writing\\NewBeginning\\New_Normalised_Input_Final.csv\", header = 0)\n",
    "x = Input_ANN.loc[:, [\"Temp\",\"ECR_4\",\"SGTE LSE_Var\",\"Allen EN_Avg\", \"IE_Avg\", \"Specific Heat_Avg\",\"C'_Var\"]]\n",
    "y = df1.loc[:, [\"SFE\"]]"
   ]
  },
  {
   "cell_type": "code",
   "execution_count": null,
   "id": "0a5a9121-6c7d-441f-b22f-33bbd4e98145",
   "metadata": {},
   "outputs": [],
   "source": [
    "plt.figure(figsize=(10,6))\n",
    "sns.heatmap(x.corr(),cmap=\"viridis\", annot= True)\n",
    "plt.show()"
   ]
  },
  {
   "cell_type": "code",
   "execution_count": null,
   "id": "63514c41-9f18-429f-84e4-96a91439c56e",
   "metadata": {},
   "outputs": [],
   "source": [
    "from sklearn.ensemble import GradientBoostingRegressor\n",
    "\n",
    "# Create the gradient boosting regressor object\n",
    "gb_reg = GradientBoostingRegressor(loss='squared_error', learning_rate=0.1, n_estimators=100, max_depth=3)\n",
    "\n",
    "# Train the model on the entire dataset\n",
    "gb_reg.fit(x, y.values.ravel())\n",
    "\n",
    "# Get the feature importance scores\n",
    "feature_importances = gb_reg.feature_importances_\n",
    "\n",
    "# Print the feature importance scores\n",
    "for feature_name, importance_score in zip(x.columns, feature_importances):\n",
    "    print(f\"{feature_name}: {importance_score}\")\n"
   ]
  },
  {
   "cell_type": "code",
   "execution_count": null,
   "id": "e93d7ca4-ca36-49fa-a5bd-2e3028de9d98",
   "metadata": {},
   "outputs": [],
   "source": [
    "Input_ANN = pd.read_csv(r\"C:\\Users\\Swati Mahato\\OneDrive - IIT Kanpur\\Literature Review\\ML_Writing\\NewBeginning\\New_Normalised_Input_Final.csv\", header = 0)\n",
    "x = Input_ANN.loc[:, [\"Temp\", \"SGTE LSE_Var\", \"Allen EN_Avg\", \"IE_Avg\", \"Specific Heat_Avg\"]]\n",
    "y = df1.loc[:, [\"SFE\"]]"
   ]
  },
  {
   "cell_type": "code",
   "execution_count": null,
   "id": "46000469-297a-4575-8553-e7422752ae8c",
   "metadata": {},
   "outputs": [],
   "source": []
  }
 ],
 "metadata": {
  "kernelspec": {
   "display_name": "Python 3 (ipykernel)",
   "language": "python",
   "name": "python3"
  },
  "language_info": {
   "codemirror_mode": {
    "name": "ipython",
    "version": 3
   },
   "file_extension": ".py",
   "mimetype": "text/x-python",
   "name": "python",
   "nbconvert_exporter": "python",
   "pygments_lexer": "ipython3",
   "version": "3.9.12"
  }
 },
 "nbformat": 4,
 "nbformat_minor": 5
}
