{
 "cells": [
  {
   "cell_type": "code",
   "execution_count": null,
   "id": "53543cbf-a787-4715-9348-491a2e564bf1",
   "metadata": {},
   "outputs": [],
   "source": [
    "import pandas as pd\n",
    "import numpy as np\n",
    "import matplotlib.pyplot as plt\n",
    "import seaborn as sns\n",
    "from itertools import combinations\n",
    "from pandas import DataFrame\n",
    "import sklearn\n",
    "from pandas import DataFrame\n",
    "from matplotlib import pyplot"
   ]
  },
  {
   "cell_type": "code",
   "execution_count": null,
   "id": "339223d1-7e89-4f76-8bcb-d17fcbbd22a7",
   "metadata": {},
   "outputs": [],
   "source": [
    "dataset=pd.read_csv(r\"C:\\Users\\Swati Mahato\\OneDrive - IIT Kanpur\\Literature Review\\ML_Writing\\NewBeginning\\New_Non-Normalised_Composition_SFE_Properties_Input.csv\")"
   ]
  },
  {
   "cell_type": "code",
   "execution_count": null,
   "id": "54277f3f-b5af-4bac-8b3b-48411ca8c36a",
   "metadata": {},
   "outputs": [],
   "source": [
    "df=dataset[[\"Temp\",\"ECR_2\",\"ECR_4\",\"ECR_6\",\"ECR_8\",\"ECR_10\",\"ECR_12\",\"VASP-PAW-GGA LSE_Avg\", \"VASP-PAW-GGA LSE_Var\",\"SGTE LSE_Avg\",\"SGTE LSE_Var\",\"Allen EN_Avg\",\"Allen EN_Var\",\"Pauling EN_Avg\",\"Pauling EN_Var\", \"Density_Avg\", \"Density_Var\", \"Atomic Weight_Avg\", \"Atomic Weight_Var\", \"Valence e_Avg\",\"Valence e_Var\",\"IE_Avg\", \"IE_Var\",\"Melting Point_Avg\", \"Melting Point_Var\",\"Specific Heat_Avg\",\"Specific Heat_Var\",\"Metallic Radius_Avg\", \"Metallic Radius_Var\", \"Shear Modulus_Avg\", \"Shear Modulus_Var\", \"Total Electrons_Avg\", \"Total Electrons_Var\", \"Atomic Planar Density_Avg\", \"Atomic Planar Density_Var\",\"C_11_Avg\", \"C_11_Var\", \"C_12_Avg\", \"C_12_Var\", \"C'_Avg\", \"C'_Var\", \"Heat of fusion_Avg\", \"Heat of fusion_Var\"  ]]\n",
    "df1=dataset[[\"Temp\",\"ECR_2\",\"ECR_4\",\"ECR_6\",\"ECR_8\",\"ECR_10\",\"ECR_12\",\"VASP-PAW-GGA LSE_Avg\", \"VASP-PAW-GGA LSE_Var\",\"SGTE LSE_Avg\",\"SGTE LSE_Var\",\"Allen EN_Avg\",\"Allen EN_Var\",\"Pauling EN_Avg\",\"Pauling EN_Var\", \"Density_Avg\", \"Density_Var\", \"Atomic Weight_Avg\", \"Atomic Weight_Var\", \"Valence e_Avg\",\"Valence e_Var\",\"IE_Avg\", \"IE_Var\",\"Melting Point_Avg\", \"Melting Point_Var\",\"Specific Heat_Avg\",\"Specific Heat_Var\",\"Metallic Radius_Avg\", \"Metallic Radius_Var\", \"Shear Modulus_Avg\", \"Shear Modulus_Var\", \"Total Electrons_Avg\", \"Total Electrons_Var\", \"Atomic Planar Density_Avg\", \"Atomic Planar Density_Var\",\"C_11_Avg\", \"C_11_Var\", \"C_12_Avg\", \"C_12_Var\", \"C'_Avg\", \"C'_Var\", \"Heat of fusion_Avg\", \"Heat of fusion_Var\", \"SFE\"]]\n",
    "\n",
    "from sklearn import preprocessing\n",
    "min_max_scaler = preprocessing.MinMaxScaler()\n",
    "x_scaled = min_max_scaler.fit_transform(df)\n",
    "df_normalized = pd.DataFrame(x_scaled)\n",
    "\n",
    "\n",
    "df_normalized.to_csv(r\"C:\\Users\\Swati Mahato\\OneDrive - IIT Kanpur\\Literature Review\\ML_Writing\\NewBeginning\\ElasticNet\\ElasticNet_New_Normalised_Input_Final.csv\", header = [\"Temp\",\"ECR_2\",\"ECR_4\",\"ECR_6\",\"ECR_8\",\"ECR_10\",\"ECR_12\",\"VASP-PAW-GGA LSE_Avg\", \"VASP-PAW-GGA LSE_Var\",\"SGTE LSE_Avg\",\"SGTE LSE_Var\",\"Allen EN_Avg\",\"Allen EN_Var\",\"Pauling EN_Avg\",\"Pauling EN_Var\", \"Density_Avg\", \"Density_Var\", \"Atomic Weight_Avg\", \"Atomic Weight_Var\", \"Valence e_Avg\",\"Valence e_Var\",\"IE_Avg\", \"IE_Var\",\"Melting Point_Avg\", \"Melting Point_Var\",\"Specific Heat_Avg\",\"Specific Heat_Var\",\"Metallic Radius_Avg\", \"Metallic Radius_Var\", \"Shear Modulus_Avg\", \"Shear Modulus_Var\", \"Total Electrons_Avg\", \"Total Electrons_Var\", \"Atomic Planar Density_Avg\", \"Atomic Planar Density_Var\",\"C_11_Avg\", \"C_11_Var\", \"C_12_Avg\", \"C_12_Var\", \"C'_Avg\", \"C'_Var\", \"Heat of fusion_Avg\", \"Heat of fusion_Var\"])"
   ]
  },
  {
   "cell_type": "code",
   "execution_count": null,
   "id": "24b6b873-510e-4d91-bf23-d0e912695a49",
   "metadata": {},
   "outputs": [],
   "source": [
    "Input = pd.read_csv(r\"C:\\Users\\Swati Mahato\\OneDrive - IIT Kanpur\\Literature Review\\ML_Writing\\NewBeginning\\ElasticNet\\ElasticNet_New_Normalised_Input_Final.csv\", header = 0)\n",
    "x = Input.loc[:, [ \"SGTE LSE_Var\", \"IE_Avg\", \"Specific Heat_Avg\"]]\n",
    "y = df1.loc[:, [\"SFE\"]]"
   ]
  },
  {
   "cell_type": "code",
   "execution_count": null,
   "id": "bc2f082a-92dc-4cb3-9024-a0accdbe40af",
   "metadata": {},
   "outputs": [],
   "source": [
    "from sklearn.model_selection import train_test_split\n",
    "x_train, x_test, y_train, y_test = train_test_split(x, y, random_state =42 ,test_size = 0.2)"
   ]
  },
  {
   "cell_type": "code",
   "execution_count": null,
   "id": "cbb7bc34-145b-41b7-903f-c5ba5003ee7a",
   "metadata": {},
   "outputs": [],
   "source": [
    "from sklearn.linear_model import ElasticNet\n",
    "from sklearn.pipeline import Pipeline\n",
    "from sklearn.preprocessing import StandardScaler, PolynomialFeatures\n",
    "from sklearn.model_selection import GridSearchCV\n",
    "from sklearn.metrics import r2_score\n",
    "\n",
    "# Define the pipeline with polynomial features and elastic net\n",
    "pipeline = Pipeline([\n",
    "    ('poly', PolynomialFeatures(degree=3)),\n",
    "    ('scaler', StandardScaler()),\n",
    "    ('elasticnet', ElasticNet(max_iter=1000000))\n",
    "])\n",
    "\n",
    "# Define the hyperparameter grid to search over\n",
    "param_grid = {\n",
    "    'elasticnet__alpha': [0.01, 0.05, 0.08, 0.09, 0.1, 0.5, 1.0, 10.0, 100.0],\n",
    "    'elasticnet__l1_ratio': [0.1, 0.2, 0.3, 0.4, 0.5, 0.6, 0.7, 0.8, 0.9, 1.0]\n",
    "}\n",
    "\n",
    "# Define the GridSearchCV object to run the search\n",
    "grid_search = GridSearchCV(pipeline, param_grid=param_grid, cv=5, scoring='r2', n_jobs=-1)\n",
    "\n",
    "# Fit the model on the training data\n",
    "grid_search.fit(x_train, y_train)\n",
    "\n",
    "# Get the best hyperparameters and score\n",
    "print(\"Best hyperparameters: \", grid_search.best_params_)\n",
    "print(\"Best score: \", grid_search.best_score_)\n",
    "\n",
    "# Get the predictions on the test data\n",
    "y_pred = grid_search.predict(x_test)\n",
    "\n",
    "# Get the R2 score on the test data\n",
    "r2_score = r2_score(y_test, y_pred)\n",
    "print(\"R2 score on test data: \", r2_score)\n"
   ]
  },
  {
   "cell_type": "code",
   "execution_count": null,
   "id": "93fb6804-691b-46ca-b2db-166bc470715a",
   "metadata": {},
   "outputs": [],
   "source": [
    "print('Elastic Net Regressor:- ')\n",
    "print(\"Best Parameters:\", grid_search.best_params_)\n",
    "\n",
    "print(\"\")\n",
    "\n",
    "print(\"Cross-validation score:{}\".format(grid_search.best_score_))\n",
    "print(\"\")\n",
    "\n",
    "y_pred_test_EN = grid_search.predict(x_test)\n",
    "y_pred_train_EN = grid_search.predict(x_train)"
   ]
  },
  {
   "cell_type": "code",
   "execution_count": null,
   "id": "beafd488-8507-4c58-9cec-dc0166242232",
   "metadata": {},
   "outputs": [],
   "source": [
    "from sklearn import metrics\n",
    "r2_train = metrics.r2_score(y_train, y_pred_train_EN)\n",
    "adj_r2_train = 1 - (1-r2_train)*(len(x_train)-1)/(len(x_train)-df.shape[1]-1)\n",
    "r2_test = metrics.r2_score(y_test, y_pred_test_EN)\n",
    "adj_r2_test = 1 - (1-r2_test)*(len(x_train)-1)/(len(x_train)-df.shape[1]-1)\n",
    "\n",
    "\n",
    "print('For Train: ')\n",
    "print('R squared value:', metrics.r2_score(y_train, y_pred_train_EN))\n",
    "print('Adjusted R2Score: ', adj_r2_train)\n",
    "print('Mean Absolute Error:', metrics.mean_absolute_error(y_train, y_pred_train_EN))\n",
    "print('Mean Squared Error:', metrics.mean_squared_error(y_train, y_pred_train_EN))\n",
    "print('Root Mean Squared Error:', np.sqrt(metrics.mean_squared_error(y_train, y_pred_train_EN)))\n",
    "#print('Mean Relative Error:', mre_train)\n",
    "print('For Test: ')\n",
    "print('R squared value:', metrics.r2_score(y_test, y_pred_test_EN))\n",
    "print('Adjusted R2Score: ', adj_r2_test)\n",
    "print('Mean Absolute Error:', metrics.mean_absolute_error(y_test, y_pred_test_EN))\n",
    "print('Mean Squared Error:', metrics.mean_squared_error(y_test, y_pred_test_EN))\n",
    "print('Root Mean Squared Error:', np.sqrt(metrics.mean_squared_error(y_test, y_pred_test_EN)))\n",
    "#print('Mean Relative Error:', mre_test)"
   ]
  },
  {
   "cell_type": "code",
   "execution_count": null,
   "id": "9585af12-8460-4a64-891d-55ae72502b13",
   "metadata": {},
   "outputs": [],
   "source": [
    "y_train = y_train.to_numpy()\n",
    "y_test = y_test.to_numpy()"
   ]
  },
  {
   "cell_type": "code",
   "execution_count": null,
   "id": "c036e3f2-281f-409d-b76c-cfbf29e40b02",
   "metadata": {},
   "outputs": [],
   "source": [
    "mre_train = []\n",
    "mre_test = []\n",
    "for i in range(len(y_train)):\n",
    "    mre_train.append((abs(y_train[i][0] - y_pred_train_EN[i])/y_train[i][0])*100)\n",
    "\n",
    "for i in range(len(y_test)):\n",
    "    mre_test.append((abs(y_test[i][0] - y_pred_test_EN[i])/y_test[i][0])*100)\n",
    "\n",
    "print(\"Mean Relative Error of Train:\",(sum(mre_train)/len(mre_train)))\n",
    "print(\"Mean Relative Error of Test:\",(sum(mre_test)/len(mre_test)))"
   ]
  }
 ],
 "metadata": {
  "kernelspec": {
   "display_name": "Python 3 (ipykernel)",
   "language": "python",
   "name": "python3"
  },
  "language_info": {
   "codemirror_mode": {
    "name": "ipython",
    "version": 3
   },
   "file_extension": ".py",
   "mimetype": "text/x-python",
   "name": "python",
   "nbconvert_exporter": "python",
   "pygments_lexer": "ipython3",
   "version": "3.9.12"
  }
 },
 "nbformat": 4,
 "nbformat_minor": 5
}
