{
 "cells": [
  {
   "cell_type": "code",
   "execution_count": null,
   "id": "690e95d3-05c2-46b6-9484-6a90ca9fac1f",
   "metadata": {},
   "outputs": [],
   "source": [
    "import warnings\n",
    "warnings.filterwarnings('ignore')\n",
    "import pandas as pd\n",
    "import numpy as np\n",
    "import keras\n",
    "import matplotlib.pyplot as plt\n",
    "from sklearn.model_selection import GridSearchCV\n",
    "from sklearn.preprocessing import MinMaxScaler\n",
    "from sklearn.preprocessing import StandardScaler\n",
    "from keras.models import Sequential\n",
    "from sklearn.model_selection import train_test_split\n",
    "from sklearn.svm import SVR\n",
    "from sklearn.metrics import r2_score\n",
    "from sklearn.multioutput import MultiOutputRegressor\n",
    "import xgboost as xgb\n",
    "from scipy.special import softmax\n",
    "import random\n",
    "from sklearn.feature_selection import RFE\n",
    "from sklearn.model_selection import train_test_split\n",
    "from sklearn.model_selection import cross_val_score\n",
    "from sklearn.model_selection import KFold\n",
    "from sklearn.pipeline import Pipeline\n",
    "from sklearn.preprocessing import StandardScaler\n",
    "from tensorflow.keras import layers\n",
    "import tensorflow as tf\n",
    "from tensorflow import keras\n",
    "from tensorflow.keras import layers\n",
    "import tensorflow_docs as tfdocs\n",
    "import tensorflow_docs.plots\n",
    "import tensorflow_docs.modeling"
   ]
  },
  {
   "cell_type": "code",
   "execution_count": null,
   "id": "95f68d63-1d9b-4d2f-9cf8-73153fab4754",
   "metadata": {},
   "outputs": [],
   "source": [
    "from sklearn.linear_model import LinearRegression\n",
    "from sklearn.linear_model import Lasso\n",
    "from sklearn.linear_model import ElasticNet\n",
    "from sklearn.tree import DecisionTreeRegressor\n",
    "from sklearn.neighbors import KNeighborsRegressor\n",
    "from sklearn.ensemble import GradientBoostingRegressor\n",
    "import xgboost as xgb\n",
    "import seaborn as sns"
   ]
  },
  {
   "cell_type": "code",
   "execution_count": null,
   "id": "6102ae0f-8b94-402c-a638-fd7252ba1a8a",
   "metadata": {},
   "outputs": [],
   "source": [
    "dataset=pd.read_csv(r\"C:\\Users\\Swati Mahato\\OneDrive - IIT Kanpur\\Literature Review\\ML_Writing\\NewBeginning\\New_Non-Normalised_Composition_SFE_Properties_Input.csv\")\n",
    "dataset"
   ]
  },
  {
   "cell_type": "code",
   "execution_count": null,
   "id": "964fd315-e65e-4616-b002-17b283f5ea75",
   "metadata": {},
   "outputs": [],
   "source": [
    "df=dataset[[\"Temp\",\"ECR_2\",\"ECR_4\",\"ECR_6\",\"ECR_8\",\"ECR_10\",\"ECR_12\",\"VASP-PAW-GGA LSE_Avg\", \"VASP-PAW-GGA LSE_Var\",\"SGTE LSE_Avg\",\"SGTE LSE_Var\",\"Allen EN_Avg\",\"Allen EN_Var\",\"Pauling EN_Avg\",\"Pauling EN_Var\", \"Density_Avg\", \"Density_Var\", \"Atomic Weight_Avg\", \"Atomic Weight_Var\", \"Valence e_Avg\",\"Valence e_Var\",\"IE_Avg\", \"IE_Var\",\"Melting Point_Avg\", \"Melting Point_Var\",\"Specific Heat_Avg\",\"Specific Heat_Var\",\"Metallic Radius_Avg\", \"Metallic Radius_Var\", \"Shear Modulus_Avg\", \"Shear Modulus_Var\", \"Total Electrons_Avg\", \"Total Electrons_Var\", \"Atomic Planar Density_Avg\", \"Atomic Planar Density_Var\",\"C_11_Avg\", \"C_11_Var\", \"C_12_Avg\", \"C_12_Var\", \"C'_Avg\", \"C'_Var\", \"Heat of fusion_Avg\", \"Heat of fusion_Var\"  ]]\n",
    "df1=dataset[[\"Temp\",\"ECR_2\",\"ECR_4\",\"ECR_6\",\"ECR_8\",\"ECR_10\",\"ECR_12\",\"VASP-PAW-GGA LSE_Avg\", \"VASP-PAW-GGA LSE_Var\",\"SGTE LSE_Avg\",\"SGTE LSE_Var\",\"Allen EN_Avg\",\"Allen EN_Var\",\"Pauling EN_Avg\",\"Pauling EN_Var\", \"Density_Avg\", \"Density_Var\", \"Atomic Weight_Avg\", \"Atomic Weight_Var\", \"Valence e_Avg\",\"Valence e_Var\",\"IE_Avg\", \"IE_Var\",\"Melting Point_Avg\", \"Melting Point_Var\",\"Specific Heat_Avg\",\"Specific Heat_Var\",\"Metallic Radius_Avg\", \"Metallic Radius_Var\", \"Shear Modulus_Avg\", \"Shear Modulus_Var\", \"Total Electrons_Avg\", \"Total Electrons_Var\", \"Atomic Planar Density_Avg\", \"Atomic Planar Density_Var\",\"C_11_Avg\", \"C_11_Var\", \"C_12_Avg\", \"C_12_Var\", \"C'_Avg\", \"C'_Var\", \"Heat of fusion_Avg\", \"Heat of fusion_Var\", \"SFE\"]]\n",
    "\n",
    "from sklearn import preprocessing\n",
    "min_max_scaler = preprocessing.MinMaxScaler()\n",
    "x_scaled = min_max_scaler.fit_transform(df)\n",
    "df_normalized = pd.DataFrame(x_scaled)\n",
    "\n",
    "\n",
    "df_normalized.to_csv(r\"C:\\Users\\Swati Mahato\\OneDrive - IIT Kanpur\\Literature Review\\ML_Writing\\NewBeginning\\RegressionModel\\Regression_New_Normalised_Input_Final.csv\", header = [\"Temp\",\"ECR_2\",\"ECR_4\",\"ECR_6\",\"ECR_8\",\"ECR_10\",\"ECR_12\",\"VASP-PAW-GGA LSE_Avg\", \"VASP-PAW-GGA LSE_Var\",\"SGTE LSE_Avg\",\"SGTE LSE_Var\",\"Allen EN_Avg\",\"Allen EN_Var\",\"Pauling EN_Avg\",\"Pauling EN_Var\", \"Density_Avg\", \"Density_Var\", \"Atomic Weight_Avg\", \"Atomic Weight_Var\", \"Valence e_Avg\",\"Valence e_Var\",\"IE_Avg\", \"IE_Var\",\"Melting Point_Avg\", \"Melting Point_Var\",\"Specific Heat_Avg\",\"Specific Heat_Var\",\"Metallic Radius_Avg\", \"Metallic Radius_Var\", \"Shear Modulus_Avg\", \"Shear Modulus_Var\", \"Total Electrons_Avg\", \"Total Electrons_Var\", \"Atomic Planar Density_Avg\", \"Atomic Planar Density_Var\",\"C_11_Avg\", \"C_11_Var\", \"C_12_Avg\", \"C_12_Var\", \"C'_Avg\", \"C'_Var\", \"Heat of fusion_Avg\", \"Heat of fusion_Var\"])"
   ]
  },
  {
   "cell_type": "code",
   "execution_count": null,
   "id": "719c8b98-a11f-44f2-b669-69bd676b8dcd",
   "metadata": {},
   "outputs": [],
   "source": [
    "Input = pd.read_csv(r\"C:\\Users\\Swati Mahato\\OneDrive - IIT Kanpur\\Literature Review\\ML_Writing\\NewBeginning\\RegressionModel\\Regression_New_Normalised_Input_Final.csv\", header = 0)\n",
    "x = Input.loc[:, [\"Temp\",\"SGTE LSE_Var\",\"IE_Avg\", \"Specific Heat_Avg\"]]\n",
    "y = df1.loc[:, [\"SFE\"]]"
   ]
  },
  {
   "cell_type": "code",
   "execution_count": null,
   "id": "277f6c1a-e591-413a-8b89-1a4ed930e83f",
   "metadata": {},
   "outputs": [],
   "source": [
    "from sklearn.model_selection import train_test_split\n",
    "x_train, x_test, y_train, y_test = train_test_split(x, y, random_state =0 ,test_size = 0.2)"
   ]
  },
  {
   "cell_type": "code",
   "execution_count": null,
   "id": "e4009d43-f170-47e6-a16f-491880c9ed39",
   "metadata": {},
   "outputs": [],
   "source": [
    "#DecisionTree\n",
    "\n",
    "param_DT ={'splitter': ['best', 'random'],\n",
    "           \"criterion\": ['mae', 'mse', 'friedman_mse', 'poisson'],\n",
    "           \"max_depth\" : [None],\n",
    "           \"min_samples_split\": [2,3,4, 5],\n",
    "           \"min_samples_leaf\":[1, 2,  3,  4, 5],\n",
    "           \"min_weight_fraction_leaf\":[0, 0.001,0.005,0.01, 0.05 ,0.1],\n",
    "           \"max_features\":['auto','sqrt', 'log2', None],\n",
    "           \"max_leaf_nodes\":[None, 40, 50,70, 80, 90, 100]\n",
    "          }\n",
    "\n",
    "DT_grid = GridSearchCV(DecisionTreeRegressor(random_state=42),param_grid=param_DT, n_jobs=-1, cv=5)\n",
    "DT = DT_grid.fit(x_train, y_train)"
   ]
  }
 ],
 "metadata": {
  "kernelspec": {
   "display_name": "Python 3 (ipykernel)",
   "language": "python",
   "name": "python3"
  },
  "language_info": {
   "codemirror_mode": {
    "name": "ipython",
    "version": 3
   },
   "file_extension": ".py",
   "mimetype": "text/x-python",
   "name": "python",
   "nbconvert_exporter": "python",
   "pygments_lexer": "ipython3",
   "version": "3.9.12"
  }
 },
 "nbformat": 4,
 "nbformat_minor": 5
}
